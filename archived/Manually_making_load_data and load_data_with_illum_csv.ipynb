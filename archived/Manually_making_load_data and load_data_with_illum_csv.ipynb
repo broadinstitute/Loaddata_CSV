{
 "cells": [
  {
   "cell_type": "code",
   "execution_count": 2,
   "metadata": {},
   "outputs": [],
   "source": [
    "from PIL import Image\n",
    "from pathlib import Path\n",
    "import argparse\n",
    "from tqdm import tqdm\n",
    "import glob\n",
    "import os\n",
    "import pandas as pd\n",
    "from re import search"
   ]
  },
  {
   "cell_type": "markdown",
   "metadata": {},
   "source": [
    "### Defining Paths of directories"
   ]
  },
  {
   "cell_type": "code",
   "execution_count": null,
   "metadata": {},
   "outputs": [],
   "source": [
    "path = '/home/ubuntu/bucket/projects'\n",
    "projdir = '2017_10_19_Profiling_rare_ORFs'\n",
    "batchname = '20200727_96W_CP185'\n",
    "platename = '20X_CP_CP185_2'\n",
    "\n",
    "\n",
    "batchpath = path + \"/\" + projdir + \"/\" + batchname\n",
    "fpath = batchpath + \"/\" + platename\n",
    "outpath = path + \"/\" + projdir + \"/\" + 'workspace' + '/' + 'load_data_csv' + '/' + batchname + '/' + platename"
   ]
  },
  {
   "cell_type": "markdown",
   "metadata": {},
   "source": [
    "### making output directory"
   ]
  },
  {
   "cell_type": "code",
   "execution_count": null,
   "metadata": {},
   "outputs": [],
   "source": [
    "def makedirectory():\n",
    "    try:\n",
    "        os.makedirs(outpath)\n",
    "        print(\"Directory\", outpath, \"is created\")\n",
    "    except IOError:\n",
    "        print(\"Directory\", outpath, \"already exists\")\n",
    "        \n",
    "directory = makedirectory()\n"
   ]
  },
  {
   "cell_type": "markdown",
   "metadata": {},
   "source": [
    "### Creating load data csvs"
   ]
  },
  {
   "cell_type": "code",
   "execution_count": null,
   "metadata": {},
   "outputs": [],
   "source": [
    "from IPython.core.interactiveshell import InteractiveShell\n",
    "\n",
    "InteractiveShell.ast_node_interactivity = \"all\"\n",
    "\n",
    "def load_data():\n",
    "    \n",
    "    lst=[]\n",
    "\n",
    "    for i, image in enumerate(os.listdir(fpath)):\n",
    "        imgpath = fpath + \"/\" + image\n",
    "        head, tail = os.path.split(imgpath)\n",
    "        lst.append(tail)\n",
    "   \n",
    "    \n",
    "\n",
    "    ch0 = [s for s in lst if \"_ch_0\" in s]\n",
    "    ch1 = [s for s in lst if \"_ch_1\" in s]\n",
    "    ch2 = [s for s in lst if \"_ch_2\" in s]\n",
    "    ch3 = [s for s in lst if \"_ch_3\" in s]\n",
    "\n",
    "    zippedlist = list(zip(ch0, ch1, ch2, ch3))\n",
    "\n",
    "\n",
    "    df = pd.DataFrame(zippedlist, columns=['FileName_OrigDNA', \n",
    "                                        'FileName_OrigProtein', \n",
    "                                        'FileName_OrigMito',\n",
    "                                       'FileName_OrigER'])\n",
    "\n",
    "    df['PathName_OrigDNA'] = fpath\n",
    "    df['PathName_OrigProtein'] = fpath\n",
    "    df['PathName_OrigMito'] = fpath\n",
    "    df['PathName_OrigER'] = fpath\n",
    "    df['Metadata_Plate'] = platename\n",
    "    df['Metadata_Well'] = (df['FileName_OrigDNA']\n",
    "                       .str.split('_')\n",
    "                       .str.get(5)\n",
    "                       .str.split('-')\n",
    "                       .str.get(0)\n",
    "                       .apply(lambda x: x[0] + str(0) + x[1] if len(x) < 3 else x)\n",
    "                          )\n",
    "                           \n",
    "    df['Metadata_Site'] = (df.FileName_OrigDNA\n",
    "                       .str.split('_')\n",
    "                       .str.get(6)\n",
    "                       .str.split('.')\n",
    "                       .str.get(0))\n",
    "\n",
    "\n",
    "    colnames = ['FileName_OrigDNA', 'PathName_OrigDNA',\n",
    "             'FileName_OrigProtein', 'PathName_OrigProtein',\n",
    "             'FileName_OrigMito', 'PathName_OrigMito',\n",
    "             'FileName_OrigER', 'PathName_OrigER', 'Metadata_Plate', 'Metadata_Well', 'Metadata_Site']\n",
    "\n",
    "    return df.reindex(columns=colnames)\n",
    "\n",
    "loaddata = load_data()\n",
    "\n",
    "loaddata.to_csv(outpath + \"/\" + 'load_data.csv')\n"
   ]
  },
  {
   "cell_type": "markdown",
   "metadata": {},
   "source": [
    "### Creating load_data_with_illum csv"
   ]
  },
  {
   "cell_type": "code",
   "execution_count": null,
   "metadata": {},
   "outputs": [],
   "source": [
    "def load_data_with_illum():\n",
    "    \n",
    "    lst=[]\n",
    "\n",
    "    for i, image in enumerate(sorted(os.listdir(fpath))):\n",
    "        imgpath = fpath + \"/\" + image\n",
    "        head, tail = os.path.split(imgpath)\n",
    "        img_name = os.path.splitext(tail)[0]\n",
    "        lst.append(tail)\n",
    "    \n",
    "\n",
    "    ch0 = [s for s in lst if \"_ch_0\" in s]\n",
    "    ch1 = [s for s in lst if \"_ch_1\" in s]\n",
    "    ch2 = [s for s in lst if \"_ch_2\" in s]\n",
    "    ch3 = [s for s in lst if \"_ch_3\" in s]\n",
    "\n",
    "    zippedlist = list(zip(ch0, ch1, ch2, ch3))\n",
    "\n",
    "\n",
    "    df = pd.DataFrame(zippedlist, columns=['FileName_OrigDNA', \n",
    "                                        'FileName_OrigProtein', \n",
    "                                        'FileName_OrigMito',\n",
    "                                       'FileName_OrigER'])\n",
    "\n",
    "    df['PathName_OrigDNA'] = fpath\n",
    "    df['PathName_OrigProtein'] = fpath\n",
    "    df['PathName_OrigMito'] = fpath\n",
    "    df['PathName_OrigER'] = fpath\n",
    "    df['Metadata_Plate'] = platename\n",
    "    df['FileName_IllumDNA'] = platename+'_IllumDNA.npy'\n",
    "    df['PathName_IllumDNA'] = batchpath + '/' + 'illum' + '/' + platename\n",
    "    df['FileName_IllumProtein'] = platename+'_IllumProtein.npy'\n",
    "    df['PathName_IllumProtein'] = batchpath + '/' + 'illum' + '/' + platename\n",
    "    df['FileName_IllumMito'] = platename+'_IllumMito.npy'\n",
    "    df['PathName_IllumMito'] = batchpath + '/' + 'illum' + '/' + platename\n",
    "    df['FileName_IllumER'] = platename+'_IllumER.npy'\n",
    "    df['PathName_IllumER'] = batchpath + '/' + 'illum' + '/' + platename\n",
    "    \n",
    "    df['Metadata_Well'] = (df.FileName_OrigDNA\n",
    "                       .str.split('_')\n",
    "                       .str.get(5)\n",
    "                       .str.split('-')\n",
    "                       .str.get(0)\n",
    "                       .apply(lambda x: x[0] + str(0) + x[1] if len(x) < 3 else x)\n",
    "                          )\n",
    "    \n",
    "\n",
    "                           \n",
    "    df['Metadata_Site'] = (df.FileName_OrigDNA\n",
    "                       .str.split('_')\n",
    "                       .str.get(6)\n",
    "                       .str.split('.')\n",
    "                       .str.get(0)\n",
    "                          )\n",
    "\n",
    "\n",
    "    colnames = ['FileName_OrigDNA', 'PathName_OrigDNA',\n",
    "             'FileName_OrigProtein', 'PathName_OrigProtein',\n",
    "             'FileName_OrigMito', 'PathName_OrigMito',\n",
    "             'FileName_OrigER', 'PathName_OrigER', \n",
    "             'Metadata_Plate','Metadata_Well', \n",
    "            'Metadata_Site', 'FileName_IllumDNA', 'PathName_IllumDNA', \n",
    "            'FileName_IllumProtein', 'PathName_IllumProtein', \n",
    "            'FileName_IllumMito', 'PathName_IllumMito','FileName_IllumER','PathName_IllumER']\n",
    "\n",
    "    return df.reindex(columns=colnames)\n",
    "\n",
    "loaddataillum = load_data_with_illum()\n",
    "loaddataillum.to_csv(outpath + \"/\" + 'load_data_with_illum.csv')"
   ]
  }
 ],
 "metadata": {
  "kernelspec": {
   "display_name": "Python 3",
   "language": "python",
   "name": "python3"
  },
  "language_info": {
   "codemirror_mode": {
    "name": "ipython",
    "version": 3
   },
   "file_extension": ".py",
   "mimetype": "text/x-python",
   "name": "python",
   "nbconvert_exporter": "python",
   "pygments_lexer": "ipython3",
   "version": "3.7.6"
  }
 },
 "nbformat": 4,
 "nbformat_minor": 2
}
