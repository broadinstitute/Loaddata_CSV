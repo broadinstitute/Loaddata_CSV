{
 "cells": [
  {
   "cell_type": "code",
   "execution_count": 31,
   "metadata": {
    "scrolled": true
   },
   "outputs": [],
   "source": [
    "from PIL import Image\n",
    "from pathlib import Path\n",
    "import argparse\n",
    "import glob\n",
    "import os\n",
    "import pandas as pd\n",
    "from re import search\n",
    "import re\n"
   ]
  },
  {
   "cell_type": "code",
   "execution_count": 3,
   "metadata": {
    "scrolled": true
   },
   "outputs": [],
   "source": [
    "path = '/home/ubuntu/bucket/projects'\n",
    "projdir = '2019_07_11_JUMP-CP-pilots'\n",
    "batchname = '2020_11_06_Scope1_MolDev'\n",
    "\n"
   ]
  },
  {
   "cell_type": "code",
   "execution_count": 4,
   "metadata": {
    "scrolled": false
   },
   "outputs": [],
   "source": [
    "\n",
    "    \n",
    "plist = [f for f in os.listdir(os.path.join(path, projdir, batchname,'images'))]\n",
    "\n",
    "platelist = []\n",
    "flist = []\n",
    "\n",
    "for p in plist:\n",
    "\n",
    "\n",
    "    pl = p.split(\"-\")\n",
    "    \n",
    "    plate = '_'.join(pl)\n",
    "\n",
    "    outpath = os.path.join(path, projdir, 'workspace', 'load_data_csv', batchname, plate)\n",
    "    \n",
    "    platelist.append(plate)\n",
    "    \n",
    "    \n",
    "\n",
    "    def makedirectory():\n",
    "\n",
    "        try:\n",
    "            os.makedirs(outpath)\n",
    "\n",
    "            print(\"Directory\", outpath, \"is created\")\n",
    "\n",
    "        except IOError:\n",
    "\n",
    "            print(\"Directory\", outpath, \"already exists\")\n",
    "\n",
    "    directory = makedirectory()\n",
    "\n",
    "\n",
    "    fpath = os.path.join(path, projdir, batchname,'images', p, 'TimePoint_1')\n",
    "    \n",
    "    flist.append(fpath)\n",
    "\n",
    "#     df = load_data()\n",
    "\n",
    "#     df.to_csv(outpath + \"/\" + 'load_data.csv', index=False)\n",
    "\n",
    "#     df_with_illum = load_data_with_illum()\n",
    "\n",
    "#     df_with_illum.to_csv(outpath + \"/\" + 'load_data_with_illum.csv', index=False)\n",
    "\n",
    "\n",
    "\n",
    "\n",
    "\n",
    "\n",
    "    \n",
    "\n"
   ]
  },
  {
   "cell_type": "code",
   "execution_count": 4,
   "metadata": {},
   "outputs": [],
   "source": [
    "channels = {'ch1':\"OrigMito\",\n",
    "    'ch2':\"OrigActin\",\n",
    "    'ch3':\"OrigGolgi\",\n",
    "    'ch4':\"OrigRNA\",\n",
    "    'ch5':\"OrigER\",\n",
    "    'ch6':\"OrigDNA\",\n",
    "    }\n",
    "## for Adaptive folder\n",
    "\n",
    "# channels = {'ch1':\"OrigDNA\",\n",
    "#     'ch2':\"OrigMito\",\n",
    "#     'ch3':\"OrigActin\",\n",
    "#     'ch4':\"OrigGolgi\",\n",
    "#     'ch5':\"OrigRNA\",\n",
    "#     'ch6':\"OrigER\",\n",
    "#     }"
   ]
  },
  {
   "cell_type": "code",
   "execution_count": 86,
   "metadata": {},
   "outputs": [],
   "source": [
    "def load_data(channels):\n",
    "    \n",
    "    lst = []\n",
    "\n",
    "    for i, image in enumerate(os.listdir(fpath)):\n",
    "    \n",
    "        imgpath = os.path.join(fpath, image)\n",
    "\n",
    "\n",
    "        if imgpath.endswith(\"TIF\"):\n",
    "\n",
    "                head, tail = os.path.split(imgpath)\n",
    "\n",
    "                lst.append(tail)\n",
    "\n",
    "        keys = list(channels.keys())\n",
    "        values = list(channels.values())\n",
    "\n",
    "\n",
    "        ch1 = [s for s in lst if 'w1' in s]\n",
    "        ch2 = [s for s in lst if 'w2' in s]\n",
    "        ch3 = [s for s in lst if 'w3' in s]\n",
    "        ch4 = [s for s in lst if 'w4' in s]\n",
    "        ch5 = [s for s in lst if 'w5' in s]\n",
    "        ch6 = [s for s in lst if 'w6' in s]\n",
    "\n",
    "\n",
    "        zippedlist = list(zip(ch1, ch2, ch3, ch4, ch5, ch6))\n",
    "\n",
    "\n",
    "        df = pd.DataFrame(zippedlist, columns=[\"FileName_\"+chname for chname in values])\n",
    "\n",
    "        path_columns = { c : fpath for c in [\"PathName_\"+chname for chname in values]}\n",
    "\n",
    "        df = df.assign(**path_columns)\n",
    "\n",
    "\n",
    "        wellname = df['FileName_OrigDNA'].tolist()\n",
    "        \n",
    "\n",
    "\n",
    "        pattern = re.compile(\"Plate3-PCO-6ch-Adaptive-20XPA_(?P<Well>\\w+)_s(?P<site>\\d+)\")\n",
    "\n",
    "\n",
    "        match = [pattern.match(i) for i in wellname]\n",
    "        well = [r.group(\"Well\") for r in match]\n",
    "        site= [f.group(\"site\") for f in match]\n",
    "\n",
    "        df['Metadata_Well'] = well\n",
    "        df['Metadata_Site'] = site\n",
    "        df['Metadata_Plate'] = plate\n",
    "\n",
    "\n",
    "        colnames = ['FileName_'+values[0], 'PathName_'+values[0],\n",
    "                    'FileName_'+values[1], 'PathName_'+values[1],\n",
    "                    'FileName_'+values[2], 'PathName_'+values[2],\n",
    "                    'FileName_'+values[3], 'PathName_'+values[3],\n",
    "                    'FileName_'+values[4], 'PathName_'+values[4],\n",
    "                    'FileName_'+values[5], 'PathName_'+values[5],\n",
    "                    'Metadata_Plate','Metadata_Well', \n",
    "                    'Metadata_Site']\n",
    "\n",
    "   \n",
    "    \n",
    "    return df.reindex(columns=colnames)\n",
    "\n",
    "df = load_data(channels) \n",
    "\n",
    "df.to_csv(outpath + \"/\" + 'load_data.csv', index=False)"
   ]
  },
  {
   "cell_type": "code",
   "execution_count": 227,
   "metadata": {},
   "outputs": [
    {
     "name": "stdout",
     "output_type": "stream",
     "text": [
      "/home/ubuntu/bucket/projects/2019_07_11_JUMP-CP-pilots/2020_11_24_Scope1_Nikon/201026_kag_Painting_Test_BR00117063b10x__20201118_114204_306\n"
     ]
    }
   ],
   "source": [
    "path = '/Users/habbasi/Desktop/2020_11_24_Scope1_Nikon/BR00117063b10x/load_data.csv'\n",
    "outpath = '/Users/habbasi/Desktop/2020_11_24_Scope1_Nikon/BR00117063b10x/'\n",
    "\n",
    "batchpath = '/home/ubuntu/bucket/projects/2019_07_11_JUMP-CP-pilots/2020_11_24_Scope1_Nikon'\n",
    "\n",
    "df = pd.read_csv(path)\n",
    "\n",
    "new = os.path.split(df['PathName_OrigAGP'][0])[-2]\n",
    "\n",
    "print(new)\n",
    "\n",
    "\n",
    "\n",
    "plates = 'BR00117063b10x'\n",
    "\n"
   ]
  },
  {
   "cell_type": "code",
   "execution_count": 228,
   "metadata": {},
   "outputs": [],
   "source": [
    "\n",
    "recolumns = ['Group_Index', 'PathName_OrigAGP', 'PathName_OrigDNA',\n",
    "       'PathName_OrigER', 'PathName_OrigMito', 'FileName_OrigAGP',\n",
    "       'FileName_OrigDNA', 'FileName_OrigER', 'FileName_OrigMito',\n",
    "       'Series_OrigAGP', 'Series_OrigDNA', 'Series_OrigER', 'Series_OrigMito',\n",
    "       'Frame_OrigAGP', 'Frame_OrigDNA', 'Frame_OrigER', 'Frame_OrigMito',\n",
    "       'Channel_OrigAGP', 'Channel_OrigDNA', 'Channel_OrigER',\n",
    "       'Channel_OrigMito', 'Metadata_ColorFormat', 'Metadata_Plate',\n",
    "       'Metadata_Series', 'Metadata_SizeC', 'Metadata_Site', 'Metadata_SizeX',\n",
    "       'Metadata_SizeY', 'Metadata_SizeZ', 'Metadata_T', 'Metadata_Well',\n",
    "       'Metadata_Z']\n",
    "\n",
    "drop_columns= ['PathName_OrigAGP', 'PathName_OrigDNA',\n",
    "       'PathName_OrigER', 'PathName_OrigMito']\n",
    "\n",
    "df = df.drop(drop_columns, axis=1)\n",
    "\n",
    "\n",
    "\n",
    "df['PathName_OrigAGP']= new\n",
    "df['PathName_OrigDNA']= new\n",
    "df['PathName_OrigMito']= new\n",
    "df['PathName_OrigER']= new\n",
    "\n",
    "\n",
    "\n",
    "dp = df.to_csv(outpath + \"/\" + 'load_data.csv', index=False)\n"
   ]
  },
  {
   "cell_type": "code",
   "execution_count": 230,
   "metadata": {},
   "outputs": [
    {
     "name": "stdout",
     "output_type": "stream",
     "text": [
      "0\n",
      "1\n",
      "2\n",
      "3\n",
      "4\n",
      "5\n",
      "6\n",
      "7\n",
      "8\n"
     ]
    }
   ],
   "source": [
    "for i in range(0,9):\n",
    "    print(i)"
   ]
  },
  {
   "cell_type": "code",
   "execution_count": 229,
   "metadata": {},
   "outputs": [],
   "source": [
    "df['FileName_IllumDNA'] = plates + '_IllumDNA.npy'\n",
    "\n",
    "df['PathName_IllumDNA'] = os.path.join(batchpath, 'illum', plates)\n",
    "\n",
    "df['FileName_IllumER'] = plates+'_IllumER.npy'\n",
    "\n",
    "df['PathName_IllumER'] = os.path.join(batchpath, 'illum', plates)\n",
    "\n",
    "df['FileName_IllumAGP'] = plates+'_IllumAGP.npy'\n",
    "\n",
    "df['PathName_IllumAGP'] = os.path.join(batchpath, 'illum', plates)\n",
    "\n",
    "df['FileName_IllumMito'] = plates+'_IllumMito.npy'\n",
    "\n",
    "df['PathName_IllumMito'] = os.path.join(batchpath, 'illum', plates)\n",
    "\n",
    "\n",
    "df.to_csv(outpath + \"/\" + 'load_data_with_illum.csv', index=False)\n",
    "\n",
    "\n"
   ]
  },
  {
   "cell_type": "code",
   "execution_count": 79,
   "metadata": {},
   "outputs": [
    {
     "data": {
      "text/plain": [
       "'/Users/habbasi/Desktop/JUMP/2020_11_24_Scope1_Nikon/BR00117061a'"
      ]
     },
     "execution_count": 79,
     "metadata": {},
     "output_type": "execute_result"
    }
   ],
   "source": []
  },
  {
   "cell_type": "code",
   "execution_count": 58,
   "metadata": {},
   "outputs": [],
   "source": [
    "df['FileName_IllumDNA'] = plates+'_IllumDNA.npy'\n",
    "\n",
    "df['PathName_IllumDNA'] = os.path.join(batchpath, 'illum', plates)\n",
    "\n",
    "df['FileName_IllumER'] = plates+'_IllumER.npy'\n",
    "\n",
    "df['PathName_IllumER'] = os.path.join(batchpath, 'illum', plates)\n",
    "\n",
    "df['FileName_IllumAGP'] = plates+'_IllumAGP.npy'\n",
    "\n",
    "df['PathName_IllumAGP'] = os.path.join(batchpath, 'illum', plates)\n",
    "\n",
    "df['FileName_IllumMito'] = plates+'_IllumMito.npy'\n",
    "\n",
    "df['PathName_IllumMito'] = os.path.join(batchpath, 'illum', plates)\n",
    "\n",
    "df['FileName_IllumRNA'] = plates+'_IllumRNA.npy'\n",
    "\n",
    "df['PathName_IllumRNA'] = os.path.join(batchpath, 'illum', plates)\n",
    "\n",
    "df['FileName_IllumBrightField'] = plates+'_IllumBrightField.npy'\n",
    "\n",
    "df['PathName_IllumBrightField'] = os.path.join(batchpath, 'illum', plates)\n",
    "\n",
    "\n",
    "df.to_csv(outpath + \"/\" + 'load_data_with_illum.csv', index=False)\n",
    "\n"
   ]
  },
  {
   "cell_type": "code",
   "execution_count": 356,
   "metadata": {},
   "outputs": [
    {
     "data": {
      "text/plain": [
       "['/Users/habbasi/Desktop/JUMP/2020_11_16_Scope1_YokogawaUS/.DS_Store',\n",
       " '/Users/habbasi/Desktop/JUMP/2020_11_16_Scope1_YokogawaUS/BRO0117014_3D_2x2x1_singleplane_10x_20201026_113115',\n",
       " '/Users/habbasi/Desktop/JUMP/2020_11_16_Scope1_YokogawaUS/BRO0117014_3D_2x2x1_singleplane_20x_20201026_113115',\n",
       " '/Users/habbasi/Desktop/JUMP/2020_11_16_Scope1_YokogawaUS/BRO0117033_3D_2x2x1_dpc_20x_20201023_151718',\n",
       " '/Users/habbasi/Desktop/JUMP/2020_11_16_Scope1_YokogawaUS/BRO0117033_3D_2x2x1_singleplane_20x_20201015_161709',\n",
       " '/Users/habbasi/Desktop/JUMP/2020_11_16_Scope1_YokogawaUS/BRO0117056_2x2x1_20x_20201022_110522',\n",
       " '/Users/habbasi/Desktop/JUMP/2020_11_16_Scope1_YokogawaUS/BRO0117056_3D_2x2x1_20x_20201022_173956',\n",
       " '/Users/habbasi/Desktop/JUMP/2020_11_16_Scope1_YokogawaUS/BRO0117059_20X_20201010_140319',\n",
       " '/Users/habbasi/Desktop/JUMP/2020_11_16_Scope1_YokogawaUS/BRO0117059_40x_20201013_155609',\n",
       " '/Users/habbasi/Desktop/JUMP/2020_11_16_Scope1_YokogawaUS/BRO01177034_20x_20201020_164856']"
      ]
     },
     "execution_count": 356,
     "metadata": {},
     "output_type": "execute_result"
    }
   ],
   "source": [
    "path = '/Users/habbasi/Desktop/JUMP/2020_11_16_Scope1_YokogawaUS'\n",
    "\n",
    "\n",
    "\n",
    "batchpath='/home/ubuntu/bucket/projects/2019_07_11_JUMP-CP-pilots/2020_11_16_Scope1_YokogawaUS'\n",
    "\n",
    "lstdir = sorted([os.path.join(path, f) for f in os.listdir(path)])\n",
    "lstdir"
   ]
  },
  {
   "cell_type": "code",
   "execution_count": 357,
   "metadata": {},
   "outputs": [
    {
     "data": {
      "text/plain": [
       "'/Users/habbasi/Desktop/JUMP/2020_11_16_Scope1_YokogawaUS/BRO01177034_20x_20201020_164856'"
      ]
     },
     "execution_count": 357,
     "metadata": {},
     "output_type": "execute_result"
    }
   ],
   "source": [
    "\n",
    "ppath = lstdir[9]\n",
    "\n",
    "ppath"
   ]
  },
  {
   "cell_type": "code",
   "execution_count": 358,
   "metadata": {},
   "outputs": [
    {
     "data": {
      "text/plain": [
       "'BRO01177034_20x'"
      ]
     },
     "execution_count": 358,
     "metadata": {},
     "output_type": "execute_result"
    }
   ],
   "source": [
    "\n",
    "\n",
    "\n",
    "df = pd.read_csv(os.path.join(ppath, 'load_data.csv'))\n",
    "\n",
    "p1 = df.Metadata_Plate[0].split(\"_\")[0]\n",
    "\n",
    "p2 = df.Metadata_Plate[0].split(\"_\")[1]\n",
    "plates = p1 + \"_\" + p2 \n",
    "\n",
    "\n",
    "\n",
    "plates"
   ]
  },
  {
   "cell_type": "code",
   "execution_count": 359,
   "metadata": {},
   "outputs": [],
   "source": [
    "#df = df.drop([\"Metadata_Plate\", \"Metadata_Zplane\"], axis=1)\n",
    "df = df.drop([\"Metadata_Plate\"], axis=1)\n",
    "\n",
    "df[\"Metadata_Plate\"] = str(plates)\n",
    "outpath = os.path.join('/Users/habbasi/Desktop/JUMP/2020_11_16_Scope1_YokogawaUS',plates)\n",
    "os.makedirs(outpath)\n",
    "dp = df.to_csv(outpath + \"/\" + 'load_data.csv', index=False)"
   ]
  },
  {
   "cell_type": "code",
   "execution_count": 360,
   "metadata": {},
   "outputs": [],
   "source": [
    "df['FileName_IllumDNA'] = plates+'_IllumDNA.npy'\n",
    "\n",
    "df['PathName_IllumDNA'] = os.path.join(batchpath, 'illum', plates)\n",
    "\n",
    "df['FileName_IllumER'] = plates+'_IllumER.npy'\n",
    "\n",
    "df['PathName_IllumER'] = os.path.join(batchpath, 'illum', plates)\n",
    "\n",
    "df['FileName_IllumAGP'] = plates+'_IllumAGP.npy'\n",
    "\n",
    "df['PathName_IllumAGP'] = os.path.join(batchpath, 'illum', plates)\n",
    "\n",
    "df['FileName_IllumMito'] = plates+'_IllumMito.npy'\n",
    "\n",
    "df['PathName_IllumMito'] = os.path.join(batchpath, 'illum', plates)\n",
    "\n",
    "df['FileName_IllumRNA'] = plates+'_IllumRNA.npy'\n",
    "\n",
    "df['PathName_IllumRNA'] = os.path.join(batchpath, 'illum', plates)\n",
    "\n",
    "df['FileName_IllumBrightField'] = plates+'_IllumBrightField.npy'\n",
    "\n",
    "df['PathName_IllumBrightField'] = os.path.join(batchpath, 'illum', plates)\n",
    "\n",
    "\n",
    "df.to_csv(outpath + \"/\" + 'load_data_with_illum.csv', index=False)\n",
    "\n",
    "\n"
   ]
  },
  {
   "cell_type": "code",
   "execution_count": 364,
   "metadata": {},
   "outputs": [
    {
     "data": {
      "text/plain": [
       "['BRO0117014_10x',\n",
       " 'BRO0117014_20x',\n",
       " 'BRO0117033_20x',\n",
       " 'BRO0117033_20xb',\n",
       " 'BRO0117056_20x',\n",
       " 'BRO0117056_20xb',\n",
       " 'BRO0117059_20X',\n",
       " 'BRO0117059_40x',\n",
       " 'BRO01177034_20x']"
      ]
     },
     "execution_count": 364,
     "metadata": {},
     "output_type": "execute_result"
    }
   ],
   "source": [
    "sorted(os.listdir(\"/Users/habbasi/Desktop/2020_11_16_Scope1_YokogawaUS\"))"
   ]
  },
  {
   "cell_type": "code",
   "execution_count": 141,
   "metadata": {},
   "outputs": [
    {
     "data": {
      "text/plain": [
       "'Plate3_PCO_6ch_Adaptive_20XPA'"
      ]
     },
     "execution_count": 141,
     "metadata": {},
     "output_type": "execute_result"
    }
   ],
   "source": [
    "df = pd.read_csv(os.path.join(ppath, 'load_data.csv'))\n",
    "\n",
    "\n",
    "df['Metadata_Plate'] = df['Metadata_Plate'].str.replace(\"Plate3_PCO_6ch_Adaptive_20XPA_Plate_20118\", \"Plate3_PCO_6ch_Adaptive_20XPA\")\n",
    "\n",
    "plates = df.Metadata_Plate[0]\n",
    "plates"
   ]
  },
  {
   "cell_type": "code",
   "execution_count": 361,
   "metadata": {},
   "outputs": [
    {
     "name": "stdout",
     "output_type": "stream",
     "text": [
      "1\n"
     ]
    }
   ],
   "source": [
    "for s in range(1,2):\n",
    "    print(s)"
   ]
  },
  {
   "cell_type": "code",
   "execution_count": 142,
   "metadata": {},
   "outputs": [],
   "source": [
    "from PIL import Image\n",
    "from pathlib import Path\n",
    "import argparse\n",
    "import glob\n",
    "import os\n",
    "import pandas as pd\n",
    "from re import search\n",
    "import re \n",
    "\n",
    "\n",
    "\n",
    "outpath = \"/Users/habbasi/Desktop/2020_11_06_Scope1_MolDev/\" + plates\n",
    "\n",
    "os.makedirs(outpath)\n",
    "\n",
    "dp = df.to_csv(outpath + \"/\" + 'load_data.csv', index=False)"
   ]
  },
  {
   "cell_type": "code",
   "execution_count": 143,
   "metadata": {},
   "outputs": [],
   "source": [
    "batchpath = '/home/ubuntu/bucket/projects/2019_07_11_JUMP-CP-pilots/2020_11_06_Scope1_MolDev'\n",
    "\n",
    "\n",
    "# channels = {'ch1':\"OrigMito\",\n",
    "#     'ch2':\"OrigActin\",\n",
    "#     'ch3':\"OrigGolgi\",\n",
    "#     'ch4':\"OrigRNA\",\n",
    "#     'ch5':\"OrigER\",\n",
    "#     'ch6':\"OrigDNA\",\n",
    "#     }\n",
    "\n",
    "channels = {'ch1':\"OrigDNA\",\n",
    "    'ch2':\"OrigMito\",\n",
    "    'ch3':\"OrigActin\",\n",
    "    'ch4':\"OrigGolgi\",\n",
    "    'ch5':\"OrigRNA\",\n",
    "    'ch6':\"OrigER\",\n",
    "    }"
   ]
  },
  {
   "cell_type": "code",
   "execution_count": 144,
   "metadata": {},
   "outputs": [],
   "source": [
    "df['FileName_IllumDNA'] = plates+'_IllumDNA.npy'\n",
    "\n",
    "df['PathName_IllumDNA'] = os.path.join(batchpath, 'illum', plates)\n",
    "\n",
    "df['FileName_IllumMito'] = plates+'_IllumMito.npy'\n",
    "\n",
    "df['PathName_IllumMito'] = os.path.join(batchpath, 'illum', plates)\n",
    "\n",
    "df['FileName_IllumMito'] = plates+'_IllumMito.npy'\n",
    "\n",
    "df['PathName_IllumMito'] = os.path.join(batchpath, 'illum', plates)\n",
    "\n",
    "df['FileName_IllumActin'] = plates+'_IllumActin.npy'\n",
    "\n",
    "df['PathName_IllumActin'] = os.path.join(batchpath, 'illum', plates)\n",
    "\n",
    "df['FileName_IllumGolgi'] = plates+'_IllumGolgi.npy'\n",
    "\n",
    "df['PathName_IllumGolgi'] = os.path.join(batchpath, 'illum', plates)\n",
    "\n",
    "df['FileName_IllumRNA'] = plates+'_IllumRNA.npy'\n",
    "\n",
    "df['PathName_IllumRNA'] = os.path.join(batchpath, 'illum', plates)\n",
    "\n",
    "df['FileName_IllumER'] = plates+'_IllumER.npy'\n",
    "\n",
    "df['PathName_IllumER'] = os.path.join(batchpath, 'illum', plates)\n",
    "\n",
    "\n",
    "\n",
    "\n",
    "df.to_csv(outpath + \"/\" + 'load_data_with_illum.csv', index=False)"
   ]
  },
  {
   "cell_type": "code",
   "execution_count": null,
   "metadata": {},
   "outputs": [],
   "source": []
  }
 ],
 "metadata": {
  "kernelspec": {
   "display_name": "Python 3",
   "language": "python",
   "name": "python3"
  },
  "language_info": {
   "codemirror_mode": {
    "name": "ipython",
    "version": 3
   },
   "file_extension": ".py",
   "mimetype": "text/x-python",
   "name": "python",
   "nbconvert_exporter": "python",
   "pygments_lexer": "ipython3",
   "version": "3.7.6"
  }
 },
 "nbformat": 4,
 "nbformat_minor": 4
}
